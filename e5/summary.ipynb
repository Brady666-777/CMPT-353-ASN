{
 "cells": [
  {
   "cell_type": "markdown",
   "id": "9574b013",
   "metadata": {},
   "source": [
    "# Summary Statistics and Data Exploration\n",
    "This notebook explores the provided CSV datasets and Reddit comment data, computing summary statistics and performing statistical tests as described in the assignment."
   ]
  },
  {
   "cell_type": "code",
   "execution_count": 1,
   "id": "4607be4a",
   "metadata": {},
   "outputs": [],
   "source": [
    "# Import Required Libraries\n",
    "import pandas as pd\n",
    "import numpy as np\n",
    "import matplotlib.pyplot as plt\n",
    "from scipy import stats\n",
    "import glob\n",
    "import os\n"
   ]
  },
  {
   "cell_type": "code",
   "execution_count": 2,
   "id": "9c48c033",
   "metadata": {},
   "outputs": [
    {
     "name": "stdout",
     "output_type": "stream",
     "text": [
      "\n",
      "File: data-1.csv\n"
     ]
    },
    {
     "data": {
      "text/html": [
       "<div>\n",
       "<style scoped>\n",
       "    .dataframe tbody tr th:only-of-type {\n",
       "        vertical-align: middle;\n",
       "    }\n",
       "\n",
       "    .dataframe tbody tr th {\n",
       "        vertical-align: top;\n",
       "    }\n",
       "\n",
       "    .dataframe thead th {\n",
       "        text-align: right;\n",
       "    }\n",
       "</style>\n",
       "<table border=\"1\" class=\"dataframe\">\n",
       "  <thead>\n",
       "    <tr style=\"text-align: right;\">\n",
       "      <th></th>\n",
       "      <th>x</th>\n",
       "      <th>y</th>\n",
       "    </tr>\n",
       "  </thead>\n",
       "  <tbody>\n",
       "    <tr>\n",
       "      <th>0</th>\n",
       "      <td>29.168628</td>\n",
       "      <td>26.350615</td>\n",
       "    </tr>\n",
       "    <tr>\n",
       "      <th>1</th>\n",
       "      <td>12.801887</td>\n",
       "      <td>11.705425</td>\n",
       "    </tr>\n",
       "    <tr>\n",
       "      <th>2</th>\n",
       "      <td>19.744856</td>\n",
       "      <td>15.331458</td>\n",
       "    </tr>\n",
       "    <tr>\n",
       "      <th>3</th>\n",
       "      <td>34.890718</td>\n",
       "      <td>27.384153</td>\n",
       "    </tr>\n",
       "    <tr>\n",
       "      <th>4</th>\n",
       "      <td>30.410696</td>\n",
       "      <td>20.859101</td>\n",
       "    </tr>\n",
       "  </tbody>\n",
       "</table>\n",
       "</div>"
      ],
      "text/plain": [
       "           x          y\n",
       "0  29.168628  26.350615\n",
       "1  12.801887  11.705425\n",
       "2  19.744856  15.331458\n",
       "3  34.890718  27.384153\n",
       "4  30.410696  20.859101"
      ]
     },
     "metadata": {},
     "output_type": "display_data"
    },
    {
     "name": "stdout",
     "output_type": "stream",
     "text": [
      "<class 'pandas.core.frame.DataFrame'>\n",
      "RangeIndex: 100 entries, 0 to 99\n",
      "Data columns (total 2 columns):\n",
      " #   Column  Non-Null Count  Dtype  \n",
      "---  ------  --------------  -----  \n",
      " 0   x       100 non-null    float64\n",
      " 1   y       100 non-null    float64\n",
      "dtypes: float64(2)\n",
      "memory usage: 1.7 KB\n",
      "None\n",
      "\n",
      "File: data-2.csv\n"
     ]
    },
    {
     "data": {
      "text/html": [
       "<div>\n",
       "<style scoped>\n",
       "    .dataframe tbody tr th:only-of-type {\n",
       "        vertical-align: middle;\n",
       "    }\n",
       "\n",
       "    .dataframe tbody tr th {\n",
       "        vertical-align: top;\n",
       "    }\n",
       "\n",
       "    .dataframe thead th {\n",
       "        text-align: right;\n",
       "    }\n",
       "</style>\n",
       "<table border=\"1\" class=\"dataframe\">\n",
       "  <thead>\n",
       "    <tr style=\"text-align: right;\">\n",
       "      <th></th>\n",
       "      <th>x</th>\n",
       "      <th>y</th>\n",
       "    </tr>\n",
       "  </thead>\n",
       "  <tbody>\n",
       "    <tr>\n",
       "      <th>0</th>\n",
       "      <td>-4.430182</td>\n",
       "      <td>-4.828145</td>\n",
       "    </tr>\n",
       "    <tr>\n",
       "      <th>1</th>\n",
       "      <td>-2.872550</td>\n",
       "      <td>1.879986</td>\n",
       "    </tr>\n",
       "    <tr>\n",
       "      <th>2</th>\n",
       "      <td>13.195915</td>\n",
       "      <td>6.361629</td>\n",
       "    </tr>\n",
       "    <tr>\n",
       "      <th>3</th>\n",
       "      <td>7.863165</td>\n",
       "      <td>2.571226</td>\n",
       "    </tr>\n",
       "    <tr>\n",
       "      <th>4</th>\n",
       "      <td>7.681578</td>\n",
       "      <td>5.173555</td>\n",
       "    </tr>\n",
       "  </tbody>\n",
       "</table>\n",
       "</div>"
      ],
      "text/plain": [
       "           x         y\n",
       "0  -4.430182 -4.828145\n",
       "1  -2.872550  1.879986\n",
       "2  13.195915  6.361629\n",
       "3   7.863165  2.571226\n",
       "4   7.681578  5.173555"
      ]
     },
     "metadata": {},
     "output_type": "display_data"
    },
    {
     "name": "stdout",
     "output_type": "stream",
     "text": [
      "<class 'pandas.core.frame.DataFrame'>\n",
      "RangeIndex: 100 entries, 0 to 99\n",
      "Data columns (total 2 columns):\n",
      " #   Column  Non-Null Count  Dtype  \n",
      "---  ------  --------------  -----  \n",
      " 0   x       100 non-null    float64\n",
      " 1   y       100 non-null    float64\n",
      "dtypes: float64(2)\n",
      "memory usage: 1.7 KB\n",
      "None\n",
      "\n",
      "File: data-3.csv\n"
     ]
    },
    {
     "data": {
      "text/html": [
       "<div>\n",
       "<style scoped>\n",
       "    .dataframe tbody tr th:only-of-type {\n",
       "        vertical-align: middle;\n",
       "    }\n",
       "\n",
       "    .dataframe tbody tr th {\n",
       "        vertical-align: top;\n",
       "    }\n",
       "\n",
       "    .dataframe thead th {\n",
       "        text-align: right;\n",
       "    }\n",
       "</style>\n",
       "<table border=\"1\" class=\"dataframe\">\n",
       "  <thead>\n",
       "    <tr style=\"text-align: right;\">\n",
       "      <th></th>\n",
       "      <th>x</th>\n",
       "      <th>y</th>\n",
       "    </tr>\n",
       "  </thead>\n",
       "  <tbody>\n",
       "    <tr>\n",
       "      <th>0</th>\n",
       "      <td>-2.102059</td>\n",
       "      <td>7.014917</td>\n",
       "    </tr>\n",
       "    <tr>\n",
       "      <th>1</th>\n",
       "      <td>-1.882548</td>\n",
       "      <td>7.188184</td>\n",
       "    </tr>\n",
       "    <tr>\n",
       "      <th>2</th>\n",
       "      <td>3.828216</td>\n",
       "      <td>10.280269</td>\n",
       "    </tr>\n",
       "    <tr>\n",
       "      <th>3</th>\n",
       "      <td>3.955505</td>\n",
       "      <td>10.048889</td>\n",
       "    </tr>\n",
       "    <tr>\n",
       "      <th>4</th>\n",
       "      <td>1.667860</td>\n",
       "      <td>9.151079</td>\n",
       "    </tr>\n",
       "  </tbody>\n",
       "</table>\n",
       "</div>"
      ],
      "text/plain": [
       "          x          y\n",
       "0 -2.102059   7.014917\n",
       "1 -1.882548   7.188184\n",
       "2  3.828216  10.280269\n",
       "3  3.955505  10.048889\n",
       "4  1.667860   9.151079"
      ]
     },
     "metadata": {},
     "output_type": "display_data"
    },
    {
     "name": "stdout",
     "output_type": "stream",
     "text": [
      "<class 'pandas.core.frame.DataFrame'>\n",
      "RangeIndex: 300 entries, 0 to 299\n",
      "Data columns (total 2 columns):\n",
      " #   Column  Non-Null Count  Dtype  \n",
      "---  ------  --------------  -----  \n",
      " 0   x       300 non-null    float64\n",
      " 1   y       300 non-null    float64\n",
      "dtypes: float64(2)\n",
      "memory usage: 4.8 KB\n",
      "None\n",
      "\n",
      "File: data-4.csv\n"
     ]
    },
    {
     "data": {
      "text/html": [
       "<div>\n",
       "<style scoped>\n",
       "    .dataframe tbody tr th:only-of-type {\n",
       "        vertical-align: middle;\n",
       "    }\n",
       "\n",
       "    .dataframe tbody tr th {\n",
       "        vertical-align: top;\n",
       "    }\n",
       "\n",
       "    .dataframe thead th {\n",
       "        text-align: right;\n",
       "    }\n",
       "</style>\n",
       "<table border=\"1\" class=\"dataframe\">\n",
       "  <thead>\n",
       "    <tr style=\"text-align: right;\">\n",
       "      <th></th>\n",
       "      <th>x</th>\n",
       "      <th>y</th>\n",
       "    </tr>\n",
       "  </thead>\n",
       "  <tbody>\n",
       "    <tr>\n",
       "      <th>0</th>\n",
       "      <td>69.941065</td>\n",
       "      <td>10.850950</td>\n",
       "    </tr>\n",
       "    <tr>\n",
       "      <th>1</th>\n",
       "      <td>69.941065</td>\n",
       "      <td>20.833335</td>\n",
       "    </tr>\n",
       "    <tr>\n",
       "      <th>2</th>\n",
       "      <td>82.936970</td>\n",
       "      <td>16.501350</td>\n",
       "    </tr>\n",
       "    <tr>\n",
       "      <th>3</th>\n",
       "      <td>0.000000</td>\n",
       "      <td>32.430215</td>\n",
       "    </tr>\n",
       "    <tr>\n",
       "      <th>4</th>\n",
       "      <td>66.008810</td>\n",
       "      <td>44.376695</td>\n",
       "    </tr>\n",
       "  </tbody>\n",
       "</table>\n",
       "</div>"
      ],
      "text/plain": [
       "           x          y\n",
       "0  69.941065  10.850950\n",
       "1  69.941065  20.833335\n",
       "2  82.936970  16.501350\n",
       "3   0.000000  32.430215\n",
       "4  66.008810  44.376695"
      ]
     },
     "metadata": {},
     "output_type": "display_data"
    },
    {
     "name": "stdout",
     "output_type": "stream",
     "text": [
      "<class 'pandas.core.frame.DataFrame'>\n",
      "RangeIndex: 118 entries, 0 to 117\n",
      "Data columns (total 2 columns):\n",
      " #   Column  Non-Null Count  Dtype  \n",
      "---  ------  --------------  -----  \n",
      " 0   x       118 non-null    float64\n",
      " 1   y       118 non-null    float64\n",
      "dtypes: float64(2)\n",
      "memory usage: 2.0 KB\n",
      "None\n",
      "\n",
      "File: data-5.csv\n"
     ]
    },
    {
     "data": {
      "text/html": [
       "<div>\n",
       "<style scoped>\n",
       "    .dataframe tbody tr th:only-of-type {\n",
       "        vertical-align: middle;\n",
       "    }\n",
       "\n",
       "    .dataframe tbody tr th {\n",
       "        vertical-align: top;\n",
       "    }\n",
       "\n",
       "    .dataframe thead th {\n",
       "        text-align: right;\n",
       "    }\n",
       "</style>\n",
       "<table border=\"1\" class=\"dataframe\">\n",
       "  <thead>\n",
       "    <tr style=\"text-align: right;\">\n",
       "      <th></th>\n",
       "      <th>x</th>\n",
       "      <th>y</th>\n",
       "    </tr>\n",
       "  </thead>\n",
       "  <tbody>\n",
       "    <tr>\n",
       "      <th>0</th>\n",
       "      <td>68.003737</td>\n",
       "      <td>6.715228</td>\n",
       "    </tr>\n",
       "    <tr>\n",
       "      <th>1</th>\n",
       "      <td>68.061273</td>\n",
       "      <td>18.087055</td>\n",
       "    </tr>\n",
       "    <tr>\n",
       "      <th>2</th>\n",
       "      <td>88.684044</td>\n",
       "      <td>17.876819</td>\n",
       "    </tr>\n",
       "    <tr>\n",
       "      <th>3</th>\n",
       "      <td>5.484007</td>\n",
       "      <td>32.665511</td>\n",
       "    </tr>\n",
       "    <tr>\n",
       "      <th>4</th>\n",
       "      <td>68.040978</td>\n",
       "      <td>41.768251</td>\n",
       "    </tr>\n",
       "  </tbody>\n",
       "</table>\n",
       "</div>"
      ],
      "text/plain": [
       "           x          y\n",
       "0  68.003737   6.715228\n",
       "1  68.061273  18.087055\n",
       "2  88.684044  17.876819\n",
       "3   5.484007  32.665511\n",
       "4  68.040978  41.768251"
      ]
     },
     "metadata": {},
     "output_type": "display_data"
    },
    {
     "name": "stdout",
     "output_type": "stream",
     "text": [
      "<class 'pandas.core.frame.DataFrame'>\n",
      "RangeIndex: 118 entries, 0 to 117\n",
      "Data columns (total 2 columns):\n",
      " #   Column  Non-Null Count  Dtype  \n",
      "---  ------  --------------  -----  \n",
      " 0   x       118 non-null    float64\n",
      " 1   y       118 non-null    float64\n",
      "dtypes: float64(2)\n",
      "memory usage: 2.0 KB\n",
      "None\n",
      "\n",
      "File: data-6.csv\n"
     ]
    },
    {
     "data": {
      "text/html": [
       "<div>\n",
       "<style scoped>\n",
       "    .dataframe tbody tr th:only-of-type {\n",
       "        vertical-align: middle;\n",
       "    }\n",
       "\n",
       "    .dataframe tbody tr th {\n",
       "        vertical-align: top;\n",
       "    }\n",
       "\n",
       "    .dataframe thead th {\n",
       "        text-align: right;\n",
       "    }\n",
       "</style>\n",
       "<table border=\"1\" class=\"dataframe\">\n",
       "  <thead>\n",
       "    <tr style=\"text-align: right;\">\n",
       "      <th></th>\n",
       "      <th>x</th>\n",
       "      <th>y</th>\n",
       "    </tr>\n",
       "  </thead>\n",
       "  <tbody>\n",
       "    <tr>\n",
       "      <th>0</th>\n",
       "      <td>26.725440</td>\n",
       "      <td>27.718622</td>\n",
       "    </tr>\n",
       "    <tr>\n",
       "      <th>1</th>\n",
       "      <td>7.158220</td>\n",
       "      <td>7.974897</td>\n",
       "    </tr>\n",
       "    <tr>\n",
       "      <th>2</th>\n",
       "      <td>10.556236</td>\n",
       "      <td>11.682195</td>\n",
       "    </tr>\n",
       "    <tr>\n",
       "      <th>3</th>\n",
       "      <td>1.586883</td>\n",
       "      <td>2.825055</td>\n",
       "    </tr>\n",
       "    <tr>\n",
       "      <th>4</th>\n",
       "      <td>13.306077</td>\n",
       "      <td>14.408962</td>\n",
       "    </tr>\n",
       "  </tbody>\n",
       "</table>\n",
       "</div>"
      ],
      "text/plain": [
       "           x          y\n",
       "0  26.725440  27.718622\n",
       "1   7.158220   7.974897\n",
       "2  10.556236  11.682195\n",
       "3   1.586883   2.825055\n",
       "4  13.306077  14.408962"
      ]
     },
     "metadata": {},
     "output_type": "display_data"
    },
    {
     "name": "stdout",
     "output_type": "stream",
     "text": [
      "<class 'pandas.core.frame.DataFrame'>\n",
      "RangeIndex: 100 entries, 0 to 99\n",
      "Data columns (total 2 columns):\n",
      " #   Column  Non-Null Count  Dtype  \n",
      "---  ------  --------------  -----  \n",
      " 0   x       100 non-null    float64\n",
      " 1   y       100 non-null    float64\n",
      "dtypes: float64(2)\n",
      "memory usage: 1.7 KB\n",
      "None\n"
     ]
    }
   ],
   "source": [
    "# Load and Explore CSV Data Sets\n",
    "data_files = sorted(glob.glob('data-*.csv'))\n",
    "datasets = {}\n",
    "for fname in data_files:\n",
    "    df = pd.read_csv(fname)\n",
    "    datasets[fname] = df\n",
    "    print(f\"\\nFile: {fname}\")\n",
    "    display(df.head())\n",
    "    print(df.info())"
   ]
  },
  {
   "cell_type": "code",
   "execution_count": 3,
   "id": "0129e93f",
   "metadata": {},
   "outputs": [
    {
     "name": "stdout",
     "output_type": "stream",
     "text": [
      "\n",
      "Summary statistics for data-1.csv:\n",
      "  x: mean=8.7177, std=12.1555, min=-22.635877790008944, max=35.23705548785129\n",
      "  y: mean=12.5229, std=6.6400, min=-2.565087832693213, max=27.38415261152477\n",
      "\n",
      "Summary statistics for data-2.csv:\n",
      "  x: mean=-0.7108, std=11.4816, min=-33.2711130771198, max=27.6470003722073\n",
      "  y: mean=-0.7490, std=6.2579, min=-18.621803760419063, max=14.14731499231748\n",
      "\n",
      "Summary statistics for data-3.csv:\n",
      "  x: mean=0.9689, std=2.2356, min=-2.4490643296742807, max=4.51888491755363\n",
      "  y: mean=8.5085, std=1.1493, min=6.641734490391763, max=10.551871022804317\n",
      "\n",
      "Summary statistics for data-4.csv:\n",
      "  x: mean=49.9051, std=28.5086, min=0.0, max=87.3767\n",
      "  y: mean=18.5538, std=16.5459, min=0.0, max=44.56504\n",
      "\n",
      "Summary statistics for data-5.csv:\n",
      "  x: mean=49.9100, std=28.5000, min=4.337892453674525, max=91.0528633396976\n",
      "  y: mean=18.5555, std=16.5408, min=0.0554975075811517, max=49.93419703633311\n",
      "\n",
      "Summary statistics for data-6.csv:\n",
      "  x: mean=7.2162, std=11.9216, min=-24.33382075234097, max=35.402138910929\n",
      "  y: mean=7.6022, std=11.7644, min=-22.9563569970746, max=36.07987403078143\n"
     ]
    }
   ],
   "source": [
    "# Compute Summary Statistics for Each Data Set\n",
    "for fname, df in datasets.items():\n",
    "    print(f\"\\nSummary statistics for {fname}:\")\n",
    "    for col in df.columns:\n",
    "        print(f\"  {col}: mean={df[col].mean():.4f}, std={df[col].std():.4f}, min={df[col].min()}, max={df[col].max()}\")"
   ]
  },
  {
   "cell_type": "code",
   "execution_count": 4,
   "id": "6c1157c9",
   "metadata": {},
   "outputs": [
    {
     "name": "stdout",
     "output_type": "stream",
     "text": [
      "Correlation between x and y in data-1.csv: 0.9503\n",
      "Correlation between x and y in data-2.csv: 0.9552\n",
      "Correlation between x and y in data-3.csv: 0.9819\n",
      "Correlation between x and y in data-4.csv: -0.0812\n",
      "Correlation between x and y in data-5.csv: -0.0882\n",
      "Correlation between x and y in data-6.csv: 0.9351\n"
     ]
    }
   ],
   "source": [
    "# Calculate Correlation Coefficient\n",
    "for fname, df in datasets.items():\n",
    "    cols = df.columns\n",
    "    if len(cols) >= 2:\n",
    "        corr = df[cols[0]].corr(df[cols[1]])\n",
    "        print(f\"Correlation between {cols[0]} and {cols[1]} in {fname}: {corr:.4f}\")"
   ]
  },
  {
   "cell_type": "markdown",
   "id": "0bcf4698",
   "metadata": {},
   "source": [
    "## Data Set Descriptions\n",
    "For each data set, provide a one-sentence description after reviewing the data above. Example:\n",
    "\n",
    "- **data-1.csv**: [Your description here]\n",
    "- **data-2.csv**: [Your description here]\n",
    "- **data-3.csv**: [Your description here]\n",
    "- **data-4.csv**: [Your description here]\n",
    "- **data-5.csv**: [Your description here]\n",
    "- **data-6.csv**: [Your description here]"
   ]
  },
  {
   "cell_type": "code",
   "execution_count": 5,
   "id": "c03a38d7",
   "metadata": {},
   "outputs": [],
   "source": [
    "# Load Reddit Comment Counts Data\n",
    "reddit_counts = pd.read_json('reddit-counts.json.gz', lines=True)"
   ]
  },
  {
   "cell_type": "code",
   "execution_count": 6,
   "id": "0d023493",
   "metadata": {},
   "outputs": [
    {
     "data": {
      "text/html": [
       "<div>\n",
       "<style scoped>\n",
       "    .dataframe tbody tr th:only-of-type {\n",
       "        vertical-align: middle;\n",
       "    }\n",
       "\n",
       "    .dataframe tbody tr th {\n",
       "        vertical-align: top;\n",
       "    }\n",
       "\n",
       "    .dataframe thead th {\n",
       "        text-align: right;\n",
       "    }\n",
       "</style>\n",
       "<table border=\"1\" class=\"dataframe\">\n",
       "  <thead>\n",
       "    <tr style=\"text-align: right;\">\n",
       "      <th></th>\n",
       "      <th>date</th>\n",
       "      <th>subreddit</th>\n",
       "      <th>comment_count</th>\n",
       "    </tr>\n",
       "  </thead>\n",
       "  <tbody>\n",
       "    <tr>\n",
       "      <th>8406</th>\n",
       "      <td>2012-01-01</td>\n",
       "      <td>canada</td>\n",
       "      <td>995</td>\n",
       "    </tr>\n",
       "    <tr>\n",
       "      <th>15469</th>\n",
       "      <td>2012-01-02</td>\n",
       "      <td>canada</td>\n",
       "      <td>1127</td>\n",
       "    </tr>\n",
       "    <tr>\n",
       "      <th>2150</th>\n",
       "      <td>2012-01-03</td>\n",
       "      <td>canada</td>\n",
       "      <td>1755</td>\n",
       "    </tr>\n",
       "    <tr>\n",
       "      <th>8979</th>\n",
       "      <td>2012-01-04</td>\n",
       "      <td>canada</td>\n",
       "      <td>1501</td>\n",
       "    </tr>\n",
       "    <tr>\n",
       "      <th>11947</th>\n",
       "      <td>2012-01-05</td>\n",
       "      <td>canada</td>\n",
       "      <td>1693</td>\n",
       "    </tr>\n",
       "  </tbody>\n",
       "</table>\n",
       "</div>"
      ],
      "text/plain": [
       "            date subreddit  comment_count\n",
       "8406  2012-01-01    canada            995\n",
       "15469 2012-01-02    canada           1127\n",
       "2150  2012-01-03    canada           1755\n",
       "8979  2012-01-04    canada           1501\n",
       "11947 2012-01-05    canada           1693"
      ]
     },
     "execution_count": 6,
     "metadata": {},
     "output_type": "execute_result"
    }
   ],
   "source": [
    "# Filter Data for 2012-2013 and /r/canada\n",
    "reddit_counts['date'] = pd.to_datetime(reddit_counts['date'])\n",
    "filtered = reddit_counts[(reddit_counts['subreddit'] == 'canada') & \n",
    "                        (reddit_counts['date'].dt.year.isin([2012, 2013]))].copy()\n",
    "filtered = filtered.sort_values('date')\n",
    "filtered.head()"
   ]
  },
  {
   "cell_type": "code",
   "execution_count": 7,
   "id": "a0c6ccca",
   "metadata": {},
   "outputs": [
    {
     "name": "stdout",
     "output_type": "stream",
     "text": [
      "Weekday count: 522, Weekend count: 209\n"
     ]
    }
   ],
   "source": [
    "# Separate Weekdays and Weekends\n",
    "def is_weekend(dt):\n",
    "    return dt.weekday() >= 5\n",
    "filtered['is_weekend'] = filtered['date'].apply(is_weekend)\n",
    "weekdays = filtered[~filtered['is_weekend']]['comment_count']\n",
    "weekends = filtered[filtered['is_weekend']]['comment_count']\n",
    "print(f\"Weekday count: {len(weekdays)}, Weekend count: {len(weekends)}\")"
   ]
  },
  {
   "cell_type": "code",
   "execution_count": 8,
   "id": "13c521c0",
   "metadata": {},
   "outputs": [
    {
     "name": "stdout",
     "output_type": "stream",
     "text": [
      "T-test p-value: 6.139e-60\n",
      "\n"
     ]
    }
   ],
   "source": [
    "# Perform Student's T-Test\n",
    "from scipy.stats import ttest_ind\n",
    "\n",
    "t_stat, t_pval = ttest_ind(weekdays, weekends, equal_var=False)\n",
    "print(f\"T-test p-value: {t_pval:.4g}\")"
   ]
  },
  {
   "cell_type": "code",
   "execution_count": 9,
   "id": "894fa701",
   "metadata": {},
   "outputs": [
    {
     "name": "stdout",
     "output_type": "stream",
     "text": [
      "Normality p-value (weekdays): 1.009e-07\n",
      "Normality p-value (weekends): 0.001521\n",
      "Levene's test p-value: 0.04379\n"
     ]
    }
   ],
   "source": [
    "# Test for Normality and Equal Variance\n",
    "from scipy.stats import normaltest, levene\n",
    "\n",
    "norm_weekdays = normaltest(weekdays)\n",
    "norm_weekends = normaltest(weekends)\n",
    "levene_test = levene(weekdays, weekends)\n",
    "print(f\"Normality p-value (weekdays): {norm_weekdays.pvalue:.4g}\")\n",
    "print(f\"Normality p-value (weekends): {norm_weekends.pvalue:.4g}\")\n",
    "print(f\"Levene's test p-value: {levene_test.pvalue:.4g}\")"
   ]
  },
  {
   "cell_type": "code",
   "execution_count": 10,
   "id": "089871f6",
   "metadata": {},
   "outputs": [
    {
     "name": "stdout",
     "output_type": "stream",
     "text": [
      "\n",
      "Transformation: log\n",
      "\n",
      "  Normality p-value (weekdays): 0.00041\n",
      "  Normality p-value (weekends): 0.3146\n",
      "\n",
      "Transformation: sqrt\n",
      "  Normality p-value (weekdays): 0.03687\n",
      "  Normality p-value (weekends): 0.1076\n",
      "\n",
      "Transformation: square\n",
      "  Normality p-value (weekdays): 2.78e-29\n",
      "  Normality p-value (weekends): 2.991e-11\n",
      "  Normality p-value (weekdays): 0.00041\n",
      "  Normality p-value (weekends): 0.3146\n",
      "\n",
      "Transformation: sqrt\n",
      "  Normality p-value (weekdays): 0.03687\n",
      "  Normality p-value (weekends): 0.1076\n",
      "\n",
      "Transformation: square\n",
      "  Normality p-value (weekdays): 2.78e-29\n",
      "  Normality p-value (weekends): 2.991e-11\n"
     ]
    }
   ],
   "source": [
    "# Transform Data and Re-Test Normality\n",
    "transforms = {\n",
    "    'log': np.log1p,\n",
    "    'sqrt': np.sqrt,\n",
    "    'square': np.square\n",
    "}\n",
    "for name, func in transforms.items():\n",
    "    print(f\"\\nTransformation: {name}\")\n",
    "    wkd = func(weekdays)\n",
    "    wke = func(weekends)\n",
    "    norm_wkd = normaltest(wkd)\n",
    "    norm_wke = normaltest(wke)\n",
    "    print(f\"  Normality p-value (weekdays): {norm_wkd.pvalue:.4g}\")\n",
    "    print(f\"  Normality p-value (weekends): {norm_wke.pvalue:.4g}\")"
   ]
  },
  {
   "cell_type": "code",
   "execution_count": 11,
   "id": "47fa25d4",
   "metadata": {},
   "outputs": [
    {
     "name": "stdout",
     "output_type": "stream",
     "text": [
      "Aggregated weeks: 104\n",
      "Normality p-value (week_means): 0.3267\n",
      "Normality p-value (weekend_means): 0.1718\n",
      "Levene's test p-value (agg): 0.1867\n",
      "Aggregated T-test p-value: 2.298e-34\n"
     ]
    }
   ],
   "source": [
    "# Aggregate by Year/Week and Analyze with Central Limit Theorem\n",
    "def get_year_week(dt):\n",
    "    return dt.isocalendar()[:2]\n",
    "filtered['year_week'] = filtered['date'].apply(get_year_week)\n",
    "agg = filtered.groupby(['year_week', 'is_weekend'])['comment_count'].mean().unstack()\n",
    "agg = agg.dropna()\n",
    "week_means = agg[False]\n",
    "weekend_means = agg[True]\n",
    "print(f\"Aggregated weeks: {len(agg)}\")\n",
    "# Normality and variance tests\n",
    "norm_week_means = normaltest(week_means)\n",
    "norm_weekend_means = normaltest(weekend_means)\n",
    "levene_agg = levene(week_means, weekend_means)\n",
    "print(f\"Normality p-value (week_means): {norm_week_means.pvalue:.4g}\")\n",
    "print(f\"Normality p-value (weekend_means): {norm_weekend_means.pvalue:.4g}\")\n",
    "print(f\"Levene's test p-value (agg): {levene_agg.pvalue:.4g}\")\n",
    "# T-test\n",
    "agg_ttest = ttest_ind(week_means, weekend_means, equal_var=False)\n",
    "print(f\"Aggregated T-test p-value: {agg_ttest.pvalue:.4g}\")"
   ]
  },
  {
   "cell_type": "code",
   "execution_count": 12,
   "id": "1c2b46ee",
   "metadata": {},
   "outputs": [
    {
     "name": "stdout",
     "output_type": "stream",
     "text": [
      "Mann–Whitney U-test p-value: 8.624e-53\n"
     ]
    }
   ],
   "source": [
    "# Perform Mann–Whitney U-Test\n",
    "from scipy.stats import mannwhitneyu\n",
    "u_stat, u_pval = mannwhitneyu(weekdays, weekends, alternative='two-sided')\n",
    "print(f\"Mann–Whitney U-test p-value: {u_pval:.4g}\")"
   ]
  },
  {
   "cell_type": "code",
   "execution_count": 13,
   "id": "e99d8c8b",
   "metadata": {},
   "outputs": [
    {
     "name": "stdout",
     "output_type": "stream",
     "text": [
      "\n",
      "Relevant p-values:\n",
      "T-test p-value: 6.139e-60\n",
      "Normality p-value (weekdays): 1.009e-07\n",
      "Normality p-value (weekends): 0.001521\n",
      "Levene's test p-value: 0.04379\n",
      "Aggregated T-test p-value: 2.298e-34\n",
      "Normality p-value (week_means): 0.3267\n",
      "Normality p-value (weekend_means): 0.1718\n",
      "Levene's test p-value (agg): 0.1867\n",
      "Mann–Whitney U-test p-value: 8.624e-53\n",
      "Irrelevant p-value: 0.1234\n"
     ]
    }
   ],
   "source": [
    "# Output Relevant p-values\n",
    "print(\"\\nRelevant p-values:\")\n",
    "print(f\"T-test p-value: {t_pval:.4g}\")\n",
    "print(f\"Normality p-value (weekdays): {norm_weekdays.pvalue:.4g}\")\n",
    "print(f\"Normality p-value (weekends): {norm_weekends.pvalue:.4g}\")\n",
    "print(f\"Levene's test p-value: {levene_test.pvalue:.4g}\")\n",
    "print(f\"Aggregated T-test p-value: {agg_ttest.pvalue:.4g}\")\n",
    "print(f\"Normality p-value (week_means): {norm_week_means.pvalue:.4g}\")\n",
    "print(f\"Normality p-value (weekend_means): {norm_weekend_means.pvalue:.4g}\")\n",
    "print(f\"Levene's test p-value (agg): {levene_agg.pvalue:.4g}\")\n",
    "print(f\"Mann–Whitney U-test p-value: {u_pval:.4g}\")\n",
    "print(f\"Irrelevant p-value: 0.1234\")"
   ]
  },
  {
   "cell_type": "code",
   "execution_count": 14,
   "id": "508f8d9f",
   "metadata": {},
   "outputs": [
    {
     "name": "stdout",
     "output_type": "stream",
     "text": [
      "Index(['date', 'subreddit', 'comment_count', 'is_weekend', 'year_week'], dtype='object')\n"
     ]
    },
    {
     "data": {
      "text/html": [
       "<div>\n",
       "<style scoped>\n",
       "    .dataframe tbody tr th:only-of-type {\n",
       "        vertical-align: middle;\n",
       "    }\n",
       "\n",
       "    .dataframe tbody tr th {\n",
       "        vertical-align: top;\n",
       "    }\n",
       "\n",
       "    .dataframe thead th {\n",
       "        text-align: right;\n",
       "    }\n",
       "</style>\n",
       "<table border=\"1\" class=\"dataframe\">\n",
       "  <thead>\n",
       "    <tr style=\"text-align: right;\">\n",
       "      <th></th>\n",
       "      <th>date</th>\n",
       "      <th>subreddit</th>\n",
       "      <th>comment_count</th>\n",
       "      <th>is_weekend</th>\n",
       "      <th>year_week</th>\n",
       "    </tr>\n",
       "  </thead>\n",
       "  <tbody>\n",
       "    <tr>\n",
       "      <th>8406</th>\n",
       "      <td>2012-01-01</td>\n",
       "      <td>canada</td>\n",
       "      <td>995</td>\n",
       "      <td>True</td>\n",
       "      <td>(2011, 52)</td>\n",
       "    </tr>\n",
       "    <tr>\n",
       "      <th>15469</th>\n",
       "      <td>2012-01-02</td>\n",
       "      <td>canada</td>\n",
       "      <td>1127</td>\n",
       "      <td>False</td>\n",
       "      <td>(2012, 1)</td>\n",
       "    </tr>\n",
       "    <tr>\n",
       "      <th>2150</th>\n",
       "      <td>2012-01-03</td>\n",
       "      <td>canada</td>\n",
       "      <td>1755</td>\n",
       "      <td>False</td>\n",
       "      <td>(2012, 1)</td>\n",
       "    </tr>\n",
       "    <tr>\n",
       "      <th>8979</th>\n",
       "      <td>2012-01-04</td>\n",
       "      <td>canada</td>\n",
       "      <td>1501</td>\n",
       "      <td>False</td>\n",
       "      <td>(2012, 1)</td>\n",
       "    </tr>\n",
       "    <tr>\n",
       "      <th>11947</th>\n",
       "      <td>2012-01-05</td>\n",
       "      <td>canada</td>\n",
       "      <td>1693</td>\n",
       "      <td>False</td>\n",
       "      <td>(2012, 1)</td>\n",
       "    </tr>\n",
       "  </tbody>\n",
       "</table>\n",
       "</div>"
      ],
      "text/plain": [
       "            date subreddit  comment_count  is_weekend   year_week\n",
       "8406  2012-01-01    canada            995        True  (2011, 52)\n",
       "15469 2012-01-02    canada           1127       False   (2012, 1)\n",
       "2150  2012-01-03    canada           1755       False   (2012, 1)\n",
       "8979  2012-01-04    canada           1501       False   (2012, 1)\n",
       "11947 2012-01-05    canada           1693       False   (2012, 1)"
      ]
     },
     "metadata": {},
     "output_type": "display_data"
    }
   ],
   "source": [
    "# Debug: Check columns and preview filtered DataFrame\n",
    "print(filtered.columns)\n",
    "display(filtered.head())"
   ]
  }
 ],
 "metadata": {
  "kernelspec": {
   "display_name": "base",
   "language": "python",
   "name": "python3"
  },
  "language_info": {
   "codemirror_mode": {
    "name": "ipython",
    "version": 3
   },
   "file_extension": ".py",
   "mimetype": "text/x-python",
   "name": "python",
   "nbconvert_exporter": "python",
   "pygments_lexer": "ipython3",
   "version": "3.12.7"
  }
 },
 "nbformat": 4,
 "nbformat_minor": 5
}
