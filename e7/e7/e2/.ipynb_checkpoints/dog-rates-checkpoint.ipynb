{
 "cells": [
  {
   "cell_type": "markdown",
   "metadata": {},
   "source": [
    "# Pup Inflation: Analysing Tweets\n",
    "\n",
    "This notebook analyzes tweets from the `@dog_rates` Twitter account to investigate potential \"grade inflation\" in dog cuteness ratings over time."
   ]
  },
  {
   "cell_type": "code",
   "execution_count": 1,
   "metadata": {},
   "outputs": [],
   "source": [
    "# Cell 1: Imports\n",
    "import pandas as pd\n",
    "import numpy as np\n",
    "import matplotlib.pyplot as plt\n",
    "import re\n",
    "from scipy.stats import linregress\n",
    "%matplotlib inline"
   ]
  },
  {
   "cell_type": "markdown",
   "metadata": {},
   "source": [
    "## 1. Load Data\n",
    "Load the data from `dog_rates_tweets.csv`. It's assumed this file is in the same directory as the notebook. Includes a fallback to dummy data if the file is not found."
   ]
  },
  {
   "cell_type": "code",
   "execution_count": null,
   "id": "be5ff961",
   "metadata": {},
   "outputs": [],
   "source": [
    "# Cell 2: Load Data\n",
    "try:\n",
    "    df_tweets = pd.read_csv('dog_rates_tweets.csv')\n",
    "    print(\"Successfully loaded dog_rates_tweets.csv\")\n",
    "except FileNotFoundError:\n",
    "    print(\"Error: dog_rates_tweets.csv not found. Please ensure the file is in the correct directory.\")\n",
    "\n",
    "# Display initial data structure (optional)\n",
    "print(\"\\nInitial data sample (first 5 rows):\")\n",
    "print(df_tweets.head())\n",
    "print(\"\\nInitial data info:\")\n",
    "df_tweets.info()"
   ]
  },
  {
   "cell_type": "markdown",
   "id": "0b6e23b7",
   "metadata": {},
   "source": [
    "## 2. Extract Ratings\n",
    "Define a function to find and extract numeric ratings (e.g., \"12/10\") from tweet text using regular expressions. Apply this function to create a new 'rating' column. Tweets without a valid rating are excluded."
   ]
  },
  {
   "cell_type": "code",
   "execution_count": null,
   "id": "9e37d3a1",
   "metadata": {},
   "outputs": [],
   "source": [
    "# Cell 3: Extract Ratings\n",
    "def extract_rating(tweet_text):\n",
    "    \"\"\"Extracts a numeric rating from a tweet string.\"\"\"\n",
    "    if pd.isna(tweet_text):\n",
    "        return None\n",
    "    # Regex to find patterns like '12/10' or '13.5/10'\n",
    "    match = re.search(r'(\\d+(\\.\\d+)?)/10', str(tweet_text))\n",
    "    if match:\n",
    "        try:\n",
    "            rating = float(match.group(1)) # group(1) captures the number before /10\n",
    "            return rating\n",
    "        except ValueError:\n",
    "            return None # Should not happen with this regex but good practice\n",
    "    return None\n",
    "\n",
    "# Apply the function to the 'text' column\n",
    "df_tweets['rating'] = df_tweets['text'].apply(extract_rating)\n",
    "\n",
    "# Exclude tweets that don't contain a rating (where 'rating' is NaN)\n",
    "# Use .copy() to avoid SettingWithCopyWarning on the slice\n",
    "df_tweets_rated = df_tweets[df_tweets['rating'].notnull()].copy()\n",
    "\n",
    "print(\"\\nData after extracting ratings (sample of tweets with ratings):\")\n",
    "print(df_tweets_rated[['text', 'rating']].head())"
   ]
  },
  {
   "cell_type": "markdown",
   "id": "9e210a0a",
   "metadata": {},
   "source": [
    "## 3. Remove Outliers\n",
    "Exclude ratings that are excessively large (e.g., greater than 25/10) as they are likely outliers or jokes and could skew the analysis."
   ]
  },
  {
   "cell_type": "code",
   "execution_count": null,
   "id": "07df3194",
   "metadata": {},
   "outputs": [],
   "source": [
    "# Cell 4: Remove Outliers\n",
    "# Define a reasonable upper limit for ratings to exclude outliers\n",
    "MAX_RATING = 25\n",
    "df_tweets_cleaned = df_tweets_rated[df_tweets_rated['rating'] <= MAX_RATING].copy()\n",
    "\n",
    "print(f\"\\nNumber of tweets before outlier removal: {len(df_tweets_rated)}\")\n",
    "print(f\"Number of tweets after removing ratings > {MAX_RATING}: {len(df_tweets_cleaned)}\")\n",
    "print(\"\\nData after removing outliers (sample):\")\n",
    "print(df_tweets_cleaned[['text', 'rating']].head())"
   ]
  },
  {
   "cell_type": "markdown",
   "id": "a082eb5e",
   "metadata": {},
   "source": [
    "## 4. Convert 'created_at' to Datetime\n",
    "Ensure the 'created_at' column is in datetime format for time-based plotting and analysis."
   ]
  },
  {
   "cell_type": "code",
   "execution_count": null,
   "id": "a1d50fdd",
   "metadata": {},
   "outputs": [],
   "source": [
    "# Cell 5: Convert 'created_at' to datetime\n",
    "# The problem statement mentions this can also be done during read_csv with parse_dates.\n",
    "# If not done then, it's crucial to do it here.\n",
    "df_tweets_cleaned['created_at'] = pd.to_datetime(df_tweets_cleaned['created_at'])\n",
    "\n",
    "print(\"\\nData info after datetime conversion:\")\n",
    "df_tweets_cleaned.info()\n",
    "print(\"\\nSample 'created_at' values after conversion:\")\n",
    "print(df_tweets_cleaned['created_at'].head())"
   ]
  },
  {
   "cell_type": "markdown",
   "id": "05c64702",
   "metadata": {},
   "source": [
    "## 5. Initial Scatter Plot\n",
    "Create a scatter plot of date versus rating to visually inspect the data distribution over time."
   ]
  },
  {
   "cell_type": "code",
   "execution_count": null,
   "id": "faef4f7f",
   "metadata": {},
   "outputs": [],
   "source": [
    "# Cell 6: Initial Scatter Plot (Date vs Rating)\n",
    "plt.figure(figsize=(10, 6))\n",
    "if not df_tweets_cleaned.empty:\n",
    "    plt.plot(df_tweets_cleaned['created_at'], df_tweets_cleaned['rating'], 'o', alpha=0.5, markersize=5)\n",
    "else:\n",
    "    plt.text(0.5, 0.5, 'No data to plot', ha='center', va='center')\n",
    "plt.title('Dog Ratings Over Time (Initial Plot)')\n",
    "plt.xlabel('Date')\n",
    "plt.ylabel('Rating (/10)')\n",
    "plt.xticks(rotation=25) # Rotate x-axis labels for better readability\n",
    "plt.grid(True, linestyle='--', alpha=0.7)\n",
    "plt.tight_layout() # Adjust layout to prevent labels from overlapping\n",
    "plt.show()"
   ]
  },
  {
   "cell_type": "markdown",
   "id": "aecfddb6",
   "metadata": {},
   "source": [
    "## 6. Prepare for Linear Regression\n",
    "Convert 'created_at' datetime objects to numeric timestamps (seconds since epoch) because `scipy.stats.linregress` requires numerical input."
   ]
  },
  {
   "cell_type": "code",
   "execution_count": null,
   "id": "9e6517cf",
   "metadata": {},
   "outputs": [],
   "source": [
    "# Cell 7: Prepare for Linear Regression (Timestamp)\n",
    "# Define a function to convert datetime to timestamp\n",
    "def to_timestamp(dt_object):\n",
    "    return dt_object.timestamp()\n",
    "\n",
    "if not df_tweets_cleaned.empty:\n",
    "    df_tweets_cleaned['timestamp'] = df_tweets_cleaned['created_at'].apply(to_timestamp)\n",
    "    print(\"\\nData with 'timestamp' column (sample):\")\n",
    "    print(df_tweets_cleaned[['created_at', 'timestamp', 'rating']].head())\n",
    "else:\n",
    "    # If DataFrame is empty, create an empty 'timestamp' column to avoid errors later\n",
    "    df_tweets_cleaned['timestamp'] = pd.Series(dtype='float64') \n",
    "    print(\"\\nDataFrame is empty, 'timestamp' column created as empty.\")"
   ]
  },
  {
   "cell_type": "markdown",
   "id": "5bee19fa",
   "metadata": {},
   "source": [
    "## 7. Perform Linear Regression\n",
    "Use `scipy.stats.linregress` to find the best-fit line for ratings over time. Calculate the predicted ratings based on this model and store them. Display the slope and intercept, and a sample of the data with predictions, mimicking the example output."
   ]
  },
  {
   "cell_type": "code",
   "execution_count": null,
   "id": "e6e8ada4",
   "metadata": {},
   "outputs": [],
   "source": [
    "# Cell 8: Perform Linear Regression\n",
    "# Ensure there's enough data to fit (linregress needs at least 2 points)\n",
    "if not df_tweets_cleaned.empty and len(df_tweets_cleaned['timestamp'].dropna()) >= 2:\n",
    "    # Drop NaNs in timestamp or rating if any slipped through, for linregress\n",
    "    regression_data = df_tweets_cleaned[['timestamp', 'rating']].dropna()\n",
    "    \n",
    "    if len(regression_data) >= 2:\n",
    "        fit = linregress(regression_data['timestamp'], regression_data['rating'])\n",
    "        \n",
    "        # Add prediction to DataFrame (as shown in the example output image)\n",
    "        # This calculation is: y = slope * x + intercept\n",
    "        df_tweets_cleaned['prediction'] = df_tweets_cleaned['timestamp'] * fit.slope + fit.intercept\n",
    "        \n",
    "        # Display the subset of columns as in the example image 'Out[9]'\n",
    "        print(\"Data with predictions (first 5 rows):\")\n",
    "        columns_to_show = ['created_at', 'text', 'rating', 'timestamp', 'prediction']\n",
    "        if 'id' in df_tweets_cleaned.columns: # Check if 'id' column exists\n",
    "            columns_to_show.insert(0, 'id')\n",
    "        print(df_tweets_cleaned[columns_to_show].head())\n",
    "        print(\"\\n---\") # Separator similar to the prompt's image style\n",
    "        \n",
    "        # Display slope and intercept as in 'Out[10]'\n",
    "        print(f\"fit.slope, fit.intercept\") # Mimicking the In[10] text\n",
    "        print(f\"Out[10]: ({fit.slope}, {fit.intercept})\") # Mimicking the Out[10] text\n",
    "    else:\n",
    "        print(\"Not enough valid data points (after dropping NaNs) to perform linear regression.\")\n",
    "        # Create placeholder fit and prediction column if regression can't be run\n",
    "        class PlaceholderFit: slope = 0; intercept = np.nanmean(df_tweets_cleaned['rating']) if not df_tweets_cleaned.empty else 10\n",
    "        fit = PlaceholderFit()\n",
    "        df_tweets_cleaned['prediction'] = fit.intercept\n",
    "else:\n",
    "    print(\"Not enough data or timestamps to perform linear regression.\")\n",
    "    # Create placeholder fit and prediction column if DataFrame is too small or empty\n",
    "    class PlaceholderFit: slope = 0; intercept = np.nanmean(df_tweets_cleaned['rating']) if not df_tweets_cleaned.empty else 10\n",
    "    fit = PlaceholderFit()\n",
    "    df_tweets_cleaned['prediction'] = fit.intercept # Assign a scalar or Series of same length\n",
    "    if not df_tweets_cleaned.empty and 'rating' in df_tweets_cleaned.columns:\n",
    "        df_tweets_cleaned['prediction'] = fit.intercept # if df is not empty, fill with mean or default\n",
    "    else:\n",
    "        df_tweets_cleaned['prediction'] = pd.Series(dtype='float64') # Empty series"
   ]
  },
  {
   "cell_type": "markdown",
   "id": "809aa485",
   "metadata": {},
   "source": [
    "## 8. Final Scatter Plot with Best-Fit Line\n",
    "Create the final plot showing actual ratings as blue dots and the best-fit line as a red line. Style the plot to match the example screenshot (`dog-rates-results.png`)."
   ]
  },
  {
   "cell_type": "code",
   "execution_count": null,
   "id": "d56f44cb",
   "metadata": {},
   "outputs": [],
   "source": [
    "# Cell 9: Final Scatter Plot with Best-Fit Line (Matching example style)\n",
    "plt.figure(figsize=(12, 7)) # Adjusted figure size for better clarity\n",
    "plt.xticks(rotation=25) # Rotate x-axis labels\n",
    "\n",
    "if not df_tweets_cleaned.empty and 'rating' in df_tweets_cleaned.columns:\n",
    "    # Plot actual ratings: blue dots, semi-transparent\n",
    "    plt.plot(df_tweets_cleaned['created_at'], df_tweets_cleaned['rating'], 'b.', alpha=0.5, label='Actual Ratings') \n",
    "    \n",
    "    # Plot the best-fit line: red line, thicker\n",
    "    # The 'prediction' column already holds (timestamp * slope + intercept)\n",
    "    if 'prediction' in df_tweets_cleaned.columns and not df_tweets_cleaned['prediction'].isnull().all():\n",
    "        # Sort by date to ensure the line plots correctly if data isn't already sorted\n",
    "        plot_df_sorted = df_tweets_cleaned.sort_values(by='created_at')\n",
    "        plt.plot(plot_df_sorted['created_at'], plot_df_sorted['prediction'], 'r-', linewidth=3, label='Best-Fit Line')\n",
    "    else:\n",
    "        print(\"No prediction line to plot.\")\n",
    "else:\n",
    "    plt.text(0.5, 0.5, 'No data to plot', ha='center', va='center')\n",
    "\n",
    "plt.title('Dog Ratings Over Time with Best-Fit Line')\n",
    "plt.xlabel('Date')\n",
    "plt.ylabel('Rating (/10)')\n",
    "plt.legend()\n",
    "plt.grid(True, linestyle='--', alpha=0.7)\n",
    "plt.tight_layout() # Adjust layout to make sure everything fits without overlapping\n",
    "plt.show()"
   ]
  },
  {
   "cell_type": "markdown",
   "metadata": {},
   "source": [
    "## End of Notebook"
   ]
  }
 ],
 "metadata": {
  "kernelspec": {
   "display_name": "base",
   "language": "python",
   "name": "python3"
  },
  "language_info": {
   "codemirror_mode": {
    "name": "ipython",
    "version": 3
   },
   "file_extension": ".py",
   "mimetype": "text/x-python",
   "name": "python",
   "nbconvert_exporter": "python",
   "pygments_lexer": "ipython3",
   "version": "3.12.7"
  }
 },
 "nbformat": 4,
 "nbformat_minor": 5
}
